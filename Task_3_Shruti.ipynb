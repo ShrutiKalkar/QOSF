{
 "cells": [
  {
   "cell_type": "code",
   "execution_count": 15,
   "metadata": {},
   "outputs": [],
   "source": [
    "import numpy as np\n",
    "import random\n",
    "\n",
    "def get_ground_state(num_qubits):\n",
    "    # to get initial state according to number of qubits\n",
    "    initial_state = []\n",
    "    for i in range(1,2**num_qubits+1):\n",
    "        initial_state.append(0)\n",
    "    initial_state[0] = 1\n",
    "    return initial_state\n",
    "\n",
    "def run_program(initial_state, program):\n",
    "    # applying gates and obtaining the final entangled state\n",
    "    I = np.identity(2)\n",
    "    for circuit_metadata in program:\n",
    "        unitary = circuit_metadata[\"unitary\"]\n",
    "        target = circuit_metadata[\"target\"]\n",
    "        if len(target) == 2:\n",
    "            initial_state = np.dot(initial_state, unitary)\n",
    "        \n",
    "        elif len(target) == 1:\n",
    "            if target[0] == 0:\n",
    "                operator = np.kron(unitary, I)\n",
    "            elif target[0] == 1:\n",
    "                operator = np.kron(I, unitary)\n",
    "            initial_state = np.dot(initial_state, operator)\n",
    "            \n",
    "        else:\n",
    "            print(\"Please enter upto two number of qubits to get correct results.\")\n",
    "    return initial_state\n",
    "\n",
    "def get_counts(state_vector, num_shots):\n",
    "    counts = {'00':0, '01':0, '10':0, '11':0}\n",
    "    measurements = random.choices(population=['00','01','10','11'], weights=[prob_amp**2 for prob_amp in state_vector] ,k=num_shots)\n",
    "    for i in measurements:\n",
    "        counts[i]+=1\n",
    "    return counts"
   ]
  },
  {
   "cell_type": "code",
   "execution_count": 16,
   "metadata": {},
   "outputs": [
    {
     "name": "stdout",
     "output_type": "stream",
     "text": [
      "{'00': 493, '01': 0, '10': 0, '11': 507}\n"
     ]
    }
   ],
   "source": [
    "#input\n",
    "my_circuit = [\n",
    "  { \"unitary\": [[0.70710678, 0.70710678], [0.70710678, -0.70710678]], \"target\": [0] }, \n",
    "  { \"unitary\": [ [1, 0, 0, 0], [0, 1, 0, 0], [0, 0, 0, 1], [0, 0, 1, 0] ], \"target\": [0, 1] } \n",
    "]\n",
    "\n",
    "my_qpu = get_ground_state(2)\n",
    "final_state = run_program(my_qpu, my_circuit)\n",
    "counts = get_counts(final_state, 1000)\n",
    "print(counts)\n"
   ]
  },
  {
   "cell_type": "code",
   "execution_count": null,
   "metadata": {},
   "outputs": [],
   "source": []
  }
 ],
 "metadata": {
  "kernelspec": {
   "display_name": "Python 3",
   "language": "python",
   "name": "python3"
  },
  "language_info": {
   "codemirror_mode": {
    "name": "ipython",
    "version": 3
   },
   "file_extension": ".py",
   "mimetype": "text/x-python",
   "name": "python",
   "nbconvert_exporter": "python",
   "pygments_lexer": "ipython3",
   "version": "3.8.5"
  }
 },
 "nbformat": 4,
 "nbformat_minor": 4
}
